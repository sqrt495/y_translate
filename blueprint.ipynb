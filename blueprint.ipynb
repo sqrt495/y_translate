{
 "cells": [
  {
   "cell_type": "code",
   "execution_count": 1,
   "id": "82ec7170-3162-4e7c-b3be-d683883a2140",
   "metadata": {
    "tags": []
   },
   "outputs": [],
   "source": [
    "import json\n",
    "import re\n",
    "import pandas"
   ]
  },
  {
   "cell_type": "code",
   "execution_count": 4,
   "id": "c6d528d4-8c85-4164-8018-50e01d4f7081",
   "metadata": {
    "tags": []
   },
   "outputs": [],
   "source": [
    "def js_r(filename: str):\n",
    "    with open(filename) as f_in:\n",
    "        return json.load(f_in)\n",
    "\n",
    "\n",
    "my_data = js_r('locales-json-ru.json')\n",
    "# print(my_data)"
   ]
  },
  {
   "cell_type": "code",
   "execution_count": 5,
   "id": "b31437b3-6595-4d94-8576-4c4c409de9e7",
   "metadata": {
    "tags": []
   },
   "outputs": [
    {
     "data": {
      "text/plain": [
       "dict"
      ]
     },
     "execution_count": 5,
     "metadata": {},
     "output_type": "execute_result"
    }
   ],
   "source": [
    "type(my_data)"
   ]
  },
  {
   "cell_type": "code",
   "execution_count": null,
   "id": "6c2a1d15-f5a2-4729-be38-cb8a8f86340a",
   "metadata": {},
   "outputs": [],
   "source": []
  }
 ],
 "metadata": {
  "kernelspec": {
   "display_name": "Python 3 (ipykernel)",
   "language": "python",
   "name": "python3"
  },
  "language_info": {
   "codemirror_mode": {
    "name": "ipython",
    "version": 3
   },
   "file_extension": ".py",
   "mimetype": "text/x-python",
   "name": "python",
   "nbconvert_exporter": "python",
   "pygments_lexer": "ipython3",
   "version": "3.10.9"
  }
 },
 "nbformat": 4,
 "nbformat_minor": 5
}
